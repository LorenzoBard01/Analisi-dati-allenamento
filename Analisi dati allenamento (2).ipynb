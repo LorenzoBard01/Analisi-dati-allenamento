{
 "cells": [
  {
   "cell_type": "markdown",
   "metadata": {},
   "source": [
    "# Analisi dati allenamento"
   ]
  },
  {
   "cell_type": "markdown",
   "metadata": {},
   "source": [
    "## Data cleaning"
   ]
  },
  {
   "cell_type": "markdown",
   "metadata": {},
   "source": [
    "Questo set di dati contiene informazioni su alcuni allenamenti giornalieri di un uomo, nel quale sono registrati le calorie consumate, il battito cardiaco, e la durata dell'allenamento.\n",
    "\n",
    "Il nostro scopo sarà pulire i dati e poi effettuare delle semplici indagini statistiche per divertimento, esplorando la correlazione tra le variabili."
   ]
  },
  {
   "cell_type": "code",
   "execution_count": 1,
   "metadata": {},
   "outputs": [],
   "source": [
    "# Importo le librerie necessarie alla pulizia ed alla analisi statistica dei dati \n",
    "import pandas as pd\n",
    "import statsmodels.formula.api as smf\n",
    "import matplotlib.pyplot as plt\n"
   ]
  },
  {
   "cell_type": "code",
   "execution_count": 2,
   "metadata": {
    "scrolled": false
   },
   "outputs": [
    {
     "name": "stdout",
     "output_type": "stream",
     "text": [
      "<class 'pandas.core.frame.DataFrame'>\n",
      "RangeIndex: 32 entries, 0 to 31\n",
      "Data columns (total 5 columns):\n",
      " #   Column    Non-Null Count  Dtype  \n",
      "---  ------    --------------  -----  \n",
      " 0   Duration  32 non-null     int64  \n",
      " 1   Date      31 non-null     object \n",
      " 2   Pulse     32 non-null     int64  \n",
      " 3   Maxpulse  32 non-null     int64  \n",
      " 4   Calories  30 non-null     float64\n",
      "dtypes: float64(1), int64(3), object(1)\n",
      "memory usage: 1.4+ KB\n"
     ]
    },
    {
     "data": {
      "text/html": [
       "<div>\n",
       "<style scoped>\n",
       "    .dataframe tbody tr th:only-of-type {\n",
       "        vertical-align: middle;\n",
       "    }\n",
       "\n",
       "    .dataframe tbody tr th {\n",
       "        vertical-align: top;\n",
       "    }\n",
       "\n",
       "    .dataframe thead th {\n",
       "        text-align: right;\n",
       "    }\n",
       "</style>\n",
       "<table border=\"1\" class=\"dataframe\">\n",
       "  <thead>\n",
       "    <tr style=\"text-align: right;\">\n",
       "      <th></th>\n",
       "      <th>Duration</th>\n",
       "      <th>Date</th>\n",
       "      <th>Pulse</th>\n",
       "      <th>Maxpulse</th>\n",
       "      <th>Calories</th>\n",
       "    </tr>\n",
       "  </thead>\n",
       "  <tbody>\n",
       "    <tr>\n",
       "      <th>0</th>\n",
       "      <td>60</td>\n",
       "      <td>'2020/12/01'</td>\n",
       "      <td>110</td>\n",
       "      <td>130</td>\n",
       "      <td>409.1</td>\n",
       "    </tr>\n",
       "    <tr>\n",
       "      <th>1</th>\n",
       "      <td>60</td>\n",
       "      <td>'2020/12/02'</td>\n",
       "      <td>117</td>\n",
       "      <td>145</td>\n",
       "      <td>479.0</td>\n",
       "    </tr>\n",
       "    <tr>\n",
       "      <th>2</th>\n",
       "      <td>60</td>\n",
       "      <td>'2020/12/03'</td>\n",
       "      <td>103</td>\n",
       "      <td>135</td>\n",
       "      <td>340.0</td>\n",
       "    </tr>\n",
       "    <tr>\n",
       "      <th>3</th>\n",
       "      <td>45</td>\n",
       "      <td>'2020/12/04'</td>\n",
       "      <td>109</td>\n",
       "      <td>175</td>\n",
       "      <td>282.4</td>\n",
       "    </tr>\n",
       "    <tr>\n",
       "      <th>4</th>\n",
       "      <td>45</td>\n",
       "      <td>'2020/12/05'</td>\n",
       "      <td>117</td>\n",
       "      <td>148</td>\n",
       "      <td>406.0</td>\n",
       "    </tr>\n",
       "  </tbody>\n",
       "</table>\n",
       "</div>"
      ],
      "text/plain": [
       "   Duration          Date  Pulse  Maxpulse  Calories\n",
       "0        60  '2020/12/01'    110       130     409.1\n",
       "1        60  '2020/12/02'    117       145     479.0\n",
       "2        60  '2020/12/03'    103       135     340.0\n",
       "3        45  '2020/12/04'    109       175     282.4\n",
       "4        45  '2020/12/05'    117       148     406.0"
      ]
     },
     "execution_count": 2,
     "metadata": {},
     "output_type": "execute_result"
    }
   ],
   "source": [
    "# Visualizzo le informazioni principali dei dati\n",
    "df = pd.read_excel(r'E:\\Lorenzo\\datac.xlsx')\n",
    "df.info()\n",
    "df.head()"
   ]
  },
  {
   "cell_type": "markdown",
   "metadata": {},
   "source": [
    "Noto che sono presenti dei valori nulli, nelle Calories e nelle Dates.\n",
    "\n",
    "Le date sono inserite in modo sequenziale, quindi posso inserire al posto del dato mancanto il giorno successivo all'allenamento precedente."
   ]
  },
  {
   "cell_type": "code",
   "execution_count": 3,
   "metadata": {
    "scrolled": true
   },
   "outputs": [
    {
     "data": {
      "text/html": [
       "<div>\n",
       "<style scoped>\n",
       "    .dataframe tbody tr th:only-of-type {\n",
       "        vertical-align: middle;\n",
       "    }\n",
       "\n",
       "    .dataframe tbody tr th {\n",
       "        vertical-align: top;\n",
       "    }\n",
       "\n",
       "    .dataframe thead th {\n",
       "        text-align: right;\n",
       "    }\n",
       "</style>\n",
       "<table border=\"1\" class=\"dataframe\">\n",
       "  <thead>\n",
       "    <tr style=\"text-align: right;\">\n",
       "      <th></th>\n",
       "      <th>Duration</th>\n",
       "      <th>Date</th>\n",
       "      <th>Pulse</th>\n",
       "      <th>Maxpulse</th>\n",
       "      <th>Calories</th>\n",
       "    </tr>\n",
       "  </thead>\n",
       "  <tbody>\n",
       "    <tr>\n",
       "      <th>22</th>\n",
       "      <td>45</td>\n",
       "      <td>NaN</td>\n",
       "      <td>100</td>\n",
       "      <td>119</td>\n",
       "      <td>282.0</td>\n",
       "    </tr>\n",
       "  </tbody>\n",
       "</table>\n",
       "</div>"
      ],
      "text/plain": [
       "    Duration Date  Pulse  Maxpulse  Calories\n",
       "22        45  NaN    100       119     282.0"
      ]
     },
     "execution_count": 3,
     "metadata": {},
     "output_type": "execute_result"
    }
   ],
   "source": [
    "# Cerco le date mancanti\n",
    "\n",
    "date_mancanti = df['Date'].isnull()\n",
    "df[date_mancanti]"
   ]
  },
  {
   "cell_type": "code",
   "execution_count": 4,
   "metadata": {},
   "outputs": [
    {
     "data": {
      "text/plain": [
       "\"'2020/12/21'\""
      ]
     },
     "execution_count": 4,
     "metadata": {},
     "output_type": "execute_result"
    }
   ],
   "source": [
    "# Ho una data mancante in 22-esima posizione\n",
    "# Controllo quindi il giorno precedente per effettuare la corretta sostituzione\n",
    "\n",
    "df['Date'][21]"
   ]
  },
  {
   "cell_type": "code",
   "execution_count": 5,
   "metadata": {},
   "outputs": [],
   "source": [
    "# Effettuo la sostituzione e successivamente converto la colonna in formato date per facilitare l'analisi\n",
    "\n",
    "df.loc[22, 'Date'] = '2020/12/22'\n",
    "df['Date'] = pd.to_datetime(df['Date'])"
   ]
  },
  {
   "cell_type": "code",
   "execution_count": 6,
   "metadata": {},
   "outputs": [],
   "source": [
    "# Sostituisco le calorie mancanti con la media della variabile\n",
    "\n",
    "media_cal = df['Calories'].mean()\n",
    "df['Calories'].fillna(media_cal, inplace = True)"
   ]
  },
  {
   "cell_type": "code",
   "execution_count": 7,
   "metadata": {},
   "outputs": [
    {
     "name": "stdout",
     "output_type": "stream",
     "text": [
      "<class 'pandas.core.frame.DataFrame'>\n",
      "RangeIndex: 32 entries, 0 to 31\n",
      "Data columns (total 5 columns):\n",
      " #   Column    Non-Null Count  Dtype         \n",
      "---  ------    --------------  -----         \n",
      " 0   Duration  32 non-null     int64         \n",
      " 1   Date      32 non-null     datetime64[ns]\n",
      " 2   Pulse     32 non-null     int64         \n",
      " 3   Maxpulse  32 non-null     int64         \n",
      " 4   Calories  32 non-null     float64       \n",
      "dtypes: datetime64[ns](1), float64(1), int64(3)\n",
      "memory usage: 1.4 KB\n"
     ]
    }
   ],
   "source": [
    "df.info()"
   ]
  },
  {
   "cell_type": "markdown",
   "metadata": {},
   "source": [
    "Non sono più presenti missing data.\n",
    "\n",
    "Ora è necessario verificare se il dataset contiene outliers."
   ]
  },
  {
   "cell_type": "code",
   "execution_count": 8,
   "metadata": {
    "scrolled": true
   },
   "outputs": [
    {
     "data": {
      "text/plain": [
       "<AxesSubplot:xlabel='Date'>"
      ]
     },
     "execution_count": 8,
     "metadata": {},
     "output_type": "execute_result"
    },
    {
     "data": {
      "image/png": "[encoded data removed]",
      "text/plain": [
       "<Figure size 432x288 with 1 Axes>"
      ]
     },
     "metadata": {
      "needs_background": "light"
     },
     "output_type": "display_data"
    }
   ],
   "source": [
    "# Diamo una veloce occhiata al grafico dell'andamento delle variabili nel tempo\n",
    "\n",
    "df.plot(x='Date')"
   ]
  },
  {
   "cell_type": "markdown",
   "metadata": {},
   "source": [
    "Notiamo che è presente un inusuale picco per la durata dell'allenamento."
   ]
  },
  {
   "cell_type": "code",
   "execution_count": 9,
   "metadata": {},
   "outputs": [
    {
     "name": "stdout",
     "output_type": "stream",
     "text": [
      "L'allenamento più lungo è durato 450 minuti!\n"
     ]
    },
    {
     "data": {
      "image/png": "[encoded data removed]",
      "text/plain": [
       "<Figure size 432x288 with 1 Axes>"
      ]
     },
     "metadata": {
      "needs_background": "light"
     },
     "output_type": "display_data"
    }
   ],
   "source": [
    "# Visualizziamo la serie della Duration\n",
    "\n",
    "df.plot.bar(x='Date', y = \"Duration\")\n",
    "print(\"L'allenamento più lungo è durato {} minuti!\".format(df['Duration'].max()))"
   ]
  },
  {
   "cell_type": "markdown",
   "metadata": {},
   "source": [
    "\n",
    "Molto probabilmente questo è un errore di digitazione e l'allenamento è durato 45 minuti.\n",
    "\n",
    "Sostituiremo quindi questo valore con la nostra previsione."
   ]
  },
  {
   "cell_type": "code",
   "execution_count": 10,
   "metadata": {},
   "outputs": [
    {
     "data": {
      "text/plain": [
       "<AxesSubplot:xlabel='Date'>"
      ]
     },
     "execution_count": 10,
     "metadata": {},
     "output_type": "execute_result"
    },
    {
     "data": {
      "image/png": "[encoded data removed]",
      "text/plain": [
       "<Figure size 432x288 with 1 Axes>"
      ]
     },
     "metadata": {
      "needs_background": "light"
     },
     "output_type": "display_data"
    }
   ],
   "source": [
    "# Identifichiamo l'outlier con un loop ed iloc\n",
    "\n",
    "for x in df.index:\n",
    "    if df.loc[x, 'Duration'] == 450:\n",
    "        df.loc[x, 'Duration'] = 45\n",
    "df.plot.bar(x='Date', y = \"Duration\", ylim=(0,75))"
   ]
  },
  {
   "cell_type": "markdown",
   "metadata": {},
   "source": [
    "## Analisi statistica"
   ]
  },
  {
   "cell_type": "raw",
   "metadata": {},
   "source": [
    "\n",
    "Ora che ci siamo presi cura dei valori anomali e dei dati mancanti possiamo condurre qualche interessante indagine statistica.\n",
    "\n",
    "Verifichiamo se le calorie consumate dipendono dalla durata e dall'intensità dell'allenamento."
   ]
  },
  {
   "cell_type": "code",
   "execution_count": 11,
   "metadata": {},
   "outputs": [
    {
     "data": {
      "text/html": [
       "<style  type=\"text/css\" >\n",
       "#T_abdf8ecf_7211_11eb_9796_001a7dda7113row0_col0,#T_abdf8ecf_7211_11eb_9796_001a7dda7113row1_col1,#T_abdf8ecf_7211_11eb_9796_001a7dda7113row2_col2,#T_abdf8ecf_7211_11eb_9796_001a7dda7113row3_col3{\n",
       "            background-color:  #023858;\n",
       "            color:  #f1f1f1;\n",
       "        }#T_abdf8ecf_7211_11eb_9796_001a7dda7113row0_col1,#T_abdf8ecf_7211_11eb_9796_001a7dda7113row0_col2,#T_abdf8ecf_7211_11eb_9796_001a7dda7113row0_col3,#T_abdf8ecf_7211_11eb_9796_001a7dda7113row2_col0{\n",
       "            background-color:  #fff7fb;\n",
       "            color:  #000000;\n",
       "        }#T_abdf8ecf_7211_11eb_9796_001a7dda7113row1_col0{\n",
       "            background-color:  #e6e2ef;\n",
       "            color:  #000000;\n",
       "        }#T_abdf8ecf_7211_11eb_9796_001a7dda7113row1_col2{\n",
       "            background-color:  #93b5d6;\n",
       "            color:  #000000;\n",
       "        }#T_abdf8ecf_7211_11eb_9796_001a7dda7113row1_col3{\n",
       "            background-color:  #d2d3e7;\n",
       "            color:  #000000;\n",
       "        }#T_abdf8ecf_7211_11eb_9796_001a7dda7113row2_col1{\n",
       "            background-color:  #b8c6e0;\n",
       "            color:  #000000;\n",
       "        }#T_abdf8ecf_7211_11eb_9796_001a7dda7113row2_col3{\n",
       "            background-color:  #faf2f8;\n",
       "            color:  #000000;\n",
       "        }#T_abdf8ecf_7211_11eb_9796_001a7dda7113row3_col0{\n",
       "            background-color:  #83afd3;\n",
       "            color:  #000000;\n",
       "        }#T_abdf8ecf_7211_11eb_9796_001a7dda7113row3_col1{\n",
       "            background-color:  #6ba5cd;\n",
       "            color:  #000000;\n",
       "        }#T_abdf8ecf_7211_11eb_9796_001a7dda7113row3_col2{\n",
       "            background-color:  #7bacd1;\n",
       "            color:  #000000;\n",
       "        }</style><table id=\"T_abdf8ecf_7211_11eb_9796_001a7dda7113\" ><thead>    <tr>        <th class=\"blank level0\" ></th>        <th class=\"col_heading level0 col0\" >Duration</th>        <th class=\"col_heading level0 col1\" >Pulse</th>        <th class=\"col_heading level0 col2\" >Maxpulse</th>        <th class=\"col_heading level0 col3\" >Calories</th>    </tr></thead><tbody>\n",
       "                <tr>\n",
       "                        <th id=\"T_abdf8ecf_7211_11eb_9796_001a7dda7113level0_row0\" class=\"row_heading level0 row0\" >Duration</th>\n",
       "                        <td id=\"T_abdf8ecf_7211_11eb_9796_001a7dda7113row0_col0\" class=\"data row0 col0\" >1.000</td>\n",
       "                        <td id=\"T_abdf8ecf_7211_11eb_9796_001a7dda7113row0_col1\" class=\"data row0 col1\" >-0.067</td>\n",
       "                        <td id=\"T_abdf8ecf_7211_11eb_9796_001a7dda7113row0_col2\" class=\"data row0 col2\" >-0.259</td>\n",
       "                        <td id=\"T_abdf8ecf_7211_11eb_9796_001a7dda7113row0_col3\" class=\"data row0 col3\" >0.323</td>\n",
       "            </tr>\n",
       "            <tr>\n",
       "                        <th id=\"T_abdf8ecf_7211_11eb_9796_001a7dda7113level0_row1\" class=\"row_heading level0 row1\" >Pulse</th>\n",
       "                        <td id=\"T_abdf8ecf_7211_11eb_9796_001a7dda7113row1_col0\" class=\"data row1 col0\" >-0.067</td>\n",
       "                        <td id=\"T_abdf8ecf_7211_11eb_9796_001a7dda7113row1_col1\" class=\"data row1 col1\" >1.000</td>\n",
       "                        <td id=\"T_abdf8ecf_7211_11eb_9796_001a7dda7113row1_col2\" class=\"data row1 col2\" >0.277</td>\n",
       "                        <td id=\"T_abdf8ecf_7211_11eb_9796_001a7dda7113row1_col3\" class=\"data row1 col3\" >0.487</td>\n",
       "            </tr>\n",
       "            <tr>\n",
       "                        <th id=\"T_abdf8ecf_7211_11eb_9796_001a7dda7113level0_row2\" class=\"row_heading level0 row2\" >Maxpulse</th>\n",
       "                        <td id=\"T_abdf8ecf_7211_11eb_9796_001a7dda7113row2_col0\" class=\"data row2 col0\" >-0.259</td>\n",
       "                        <td id=\"T_abdf8ecf_7211_11eb_9796_001a7dda7113row2_col1\" class=\"data row2 col1\" >0.277</td>\n",
       "                        <td id=\"T_abdf8ecf_7211_11eb_9796_001a7dda7113row2_col2\" class=\"data row2 col2\" >1.000</td>\n",
       "                        <td id=\"T_abdf8ecf_7211_11eb_9796_001a7dda7113row2_col3\" class=\"data row2 col3\" >0.347</td>\n",
       "            </tr>\n",
       "            <tr>\n",
       "                        <th id=\"T_abdf8ecf_7211_11eb_9796_001a7dda7113level0_row3\" class=\"row_heading level0 row3\" >Calories</th>\n",
       "                        <td id=\"T_abdf8ecf_7211_11eb_9796_001a7dda7113row3_col0\" class=\"data row3 col0\" >0.323</td>\n",
       "                        <td id=\"T_abdf8ecf_7211_11eb_9796_001a7dda7113row3_col1\" class=\"data row3 col1\" >0.487</td>\n",
       "                        <td id=\"T_abdf8ecf_7211_11eb_9796_001a7dda7113row3_col2\" class=\"data row3 col2\" >0.347</td>\n",
       "                        <td id=\"T_abdf8ecf_7211_11eb_9796_001a7dda7113row3_col3\" class=\"data row3 col3\" >1.000</td>\n",
       "            </tr>\n",
       "    </tbody></table>"
      ],
      "text/plain": [
       "<pandas.io.formats.style.Styler at 0x1eb51ab42e0>"
      ]
     },
     "execution_count": 11,
     "metadata": {},
     "output_type": "execute_result"
    }
   ],
   "source": [
    "# Visulizzo la correlazione lineare tra variabili in una matrice\n",
    "\n",
    "corr_lin= df.corr()\n",
    "corr_lin.style.background_gradient().set_precision(3)\n"
   ]
  },
  {
   "cell_type": "markdown",
   "metadata": {},
   "source": [
    "Non sono presenti forti correlazioni lineari tra le calories e gli altri caratteri. \n",
    "\n",
    "Può essere utile visualizzare la concordanza."
   ]
  },
  {
   "cell_type": "code",
   "execution_count": 12,
   "metadata": {},
   "outputs": [
    {
     "data": {
      "text/html": [
       "<style  type=\"text/css\" >\n",
       "#T_abe18a29_7211_11eb_894c_001a7dda7113row0_col0,#T_abe18a29_7211_11eb_894c_001a7dda7113row1_col1,#T_abe18a29_7211_11eb_894c_001a7dda7113row2_col2,#T_abe18a29_7211_11eb_894c_001a7dda7113row3_col3{\n",
       "            background-color:  #023858;\n",
       "            color:  #f1f1f1;\n",
       "        }#T_abe18a29_7211_11eb_894c_001a7dda7113row0_col1,#T_abe18a29_7211_11eb_894c_001a7dda7113row0_col2,#T_abe18a29_7211_11eb_894c_001a7dda7113row0_col3,#T_abe18a29_7211_11eb_894c_001a7dda7113row2_col0{\n",
       "            background-color:  #fff7fb;\n",
       "            color:  #000000;\n",
       "        }#T_abe18a29_7211_11eb_894c_001a7dda7113row1_col0{\n",
       "            background-color:  #f2ecf5;\n",
       "            color:  #000000;\n",
       "        }#T_abe18a29_7211_11eb_894c_001a7dda7113row1_col2{\n",
       "            background-color:  #1278b4;\n",
       "            color:  #f1f1f1;\n",
       "        }#T_abe18a29_7211_11eb_894c_001a7dda7113row1_col3{\n",
       "            background-color:  #96b6d7;\n",
       "            color:  #000000;\n",
       "        }#T_abe18a29_7211_11eb_894c_001a7dda7113row2_col1{\n",
       "            background-color:  #1b7eb7;\n",
       "            color:  #000000;\n",
       "        }#T_abe18a29_7211_11eb_894c_001a7dda7113row2_col3{\n",
       "            background-color:  #d2d2e7;\n",
       "            color:  #000000;\n",
       "        }#T_abe18a29_7211_11eb_894c_001a7dda7113row3_col0{\n",
       "            background-color:  #9ebad9;\n",
       "            color:  #000000;\n",
       "        }#T_abe18a29_7211_11eb_894c_001a7dda7113row3_col1{\n",
       "            background-color:  #3b92c1;\n",
       "            color:  #000000;\n",
       "        }#T_abe18a29_7211_11eb_894c_001a7dda7113row3_col2{\n",
       "            background-color:  #5ea0ca;\n",
       "            color:  #000000;\n",
       "        }</style><table id=\"T_abe18a29_7211_11eb_894c_001a7dda7113\" ><thead>    <tr>        <th class=\"blank level0\" ></th>        <th class=\"col_heading level0 col0\" >Duration</th>        <th class=\"col_heading level0 col1\" >Pulse</th>        <th class=\"col_heading level0 col2\" >Maxpulse</th>        <th class=\"col_heading level0 col3\" >Calories</th>    </tr></thead><tbody>\n",
       "                <tr>\n",
       "                        <th id=\"T_abe18a29_7211_11eb_894c_001a7dda7113level0_row0\" class=\"row_heading level0 row0\" >Duration</th>\n",
       "                        <td id=\"T_abe18a29_7211_11eb_894c_001a7dda7113row0_col0\" class=\"data row0 col0\" >1.000</td>\n",
       "                        <td id=\"T_abe18a29_7211_11eb_894c_001a7dda7113row0_col1\" class=\"data row0 col1\" >-0.107</td>\n",
       "                        <td id=\"T_abe18a29_7211_11eb_894c_001a7dda7113row0_col2\" class=\"data row0 col2\" >-0.209</td>\n",
       "                        <td id=\"T_abe18a29_7211_11eb_894c_001a7dda7113row0_col3\" class=\"data row0 col3\" >0.272</td>\n",
       "            </tr>\n",
       "            <tr>\n",
       "                        <th id=\"T_abe18a29_7211_11eb_894c_001a7dda7113level0_row1\" class=\"row_heading level0 row1\" >Pulse</th>\n",
       "                        <td id=\"T_abe18a29_7211_11eb_894c_001a7dda7113row1_col0\" class=\"data row1 col0\" >-0.107</td>\n",
       "                        <td id=\"T_abe18a29_7211_11eb_894c_001a7dda7113row1_col1\" class=\"data row1 col1\" >1.000</td>\n",
       "                        <td id=\"T_abe18a29_7211_11eb_894c_001a7dda7113row1_col2\" class=\"data row1 col2\" >0.659</td>\n",
       "                        <td id=\"T_abe18a29_7211_11eb_894c_001a7dda7113row1_col3\" class=\"data row1 col3\" >0.575</td>\n",
       "            </tr>\n",
       "            <tr>\n",
       "                        <th id=\"T_abe18a29_7211_11eb_894c_001a7dda7113level0_row2\" class=\"row_heading level0 row2\" >Maxpulse</th>\n",
       "                        <td id=\"T_abe18a29_7211_11eb_894c_001a7dda7113row2_col0\" class=\"data row2 col0\" >-0.209</td>\n",
       "                        <td id=\"T_abe18a29_7211_11eb_894c_001a7dda7113row2_col1\" class=\"data row2 col1\" >0.659</td>\n",
       "                        <td id=\"T_abe18a29_7211_11eb_894c_001a7dda7113row2_col2\" class=\"data row2 col2\" >1.000</td>\n",
       "                        <td id=\"T_abe18a29_7211_11eb_894c_001a7dda7113row2_col3\" class=\"data row2 col3\" >0.451</td>\n",
       "            </tr>\n",
       "            <tr>\n",
       "                        <th id=\"T_abe18a29_7211_11eb_894c_001a7dda7113level0_row3\" class=\"row_heading level0 row3\" >Calories</th>\n",
       "                        <td id=\"T_abe18a29_7211_11eb_894c_001a7dda7113row3_col0\" class=\"data row3 col0\" >0.272</td>\n",
       "                        <td id=\"T_abe18a29_7211_11eb_894c_001a7dda7113row3_col1\" class=\"data row3 col1\" >0.575</td>\n",
       "                        <td id=\"T_abe18a29_7211_11eb_894c_001a7dda7113row3_col2\" class=\"data row3 col2\" >0.451</td>\n",
       "                        <td id=\"T_abe18a29_7211_11eb_894c_001a7dda7113row3_col3\" class=\"data row3 col3\" >1.000</td>\n",
       "            </tr>\n",
       "    </tbody></table>"
      ],
      "text/plain": [
       "<pandas.io.formats.style.Styler at 0x1eb5194d880>"
      ]
     },
     "execution_count": 12,
     "metadata": {},
     "output_type": "execute_result"
    }
   ],
   "source": [
    "# Visualizzo la concordanza con l'indice di Spearman\n",
    "\n",
    "corr_spear = df.corr('spearman')\n",
    "corr_spear.style.background_gradient().set_precision(3)"
   ]
  },
  {
   "cell_type": "markdown",
   "metadata": {},
   "source": [
    "Da questa tabella si può vedere che al crescere del battito cardiaco medio e massimo, c'è una moderata tendenza di crescita delle calorie consumate."
   ]
  },
  {
   "cell_type": "code",
   "execution_count": 13,
   "metadata": {},
   "outputs": [
    {
     "name": "stdout",
     "output_type": "stream",
     "text": [
      "                            OLS Regression Results                            \n",
      "==============================================================================\n",
      "Dep. Variable:               Calories   R-squared:                       0.468\n",
      "Model:                            OLS   Adj. R-squared:                  0.411\n",
      "Method:                 Least Squares   F-statistic:                     8.196\n",
      "Date:                Thu, 18 Feb 2021   Prob (F-statistic):           0.000452\n",
      "Time:                        18:49:38   Log-Likelihood:                -167.82\n",
      "No. Observations:                  32   AIC:                             343.6\n",
      "Df Residuals:                      28   BIC:                             349.5\n",
      "Df Model:                           3                                         \n",
      "Covariance Type:            nonrobust                                         \n",
      "==============================================================================\n",
      "                 coef    std err          t      P>|t|      [0.025      0.975]\n",
      "------------------------------------------------------------------------------\n",
      "Intercept   -468.5577    156.690     -2.990      0.006    -789.522    -147.593\n",
      "Pulse          3.4321      1.170      2.935      0.007       1.036       5.828\n",
      "Maxpulse       1.6945      0.728      2.328      0.027       0.203       3.186\n",
      "Duration       3.5902      1.162      3.088      0.005       1.209       5.971\n",
      "==============================================================================\n",
      "Omnibus:                        1.551   Durbin-Watson:                   1.806\n",
      "Prob(Omnibus):                  0.460   Jarque-Bera (JB):                1.353\n",
      "Skew:                           0.478   Prob(JB):                        0.509\n",
      "Kurtosis:                       2.681   Cond. No.                     3.16e+03\n",
      "==============================================================================\n",
      "\n",
      "Notes:\n",
      "[1] Standard Errors assume that the covariance matrix of the errors is correctly specified.\n",
      "[2] The condition number is large, 3.16e+03. This might indicate that there are\n",
      "strong multicollinearity or other numerical problems.\n"
     ]
    }
   ],
   "source": [
    "#   Con la regressione lineare, costruisco un modello che prevede le calorie in media data \n",
    "#   durata ed intensità (battito cardiaco medio e max) dell'allenamento\n",
    "\n",
    "regr = smf.ols(formula = 'Calories ~ Pulse + Maxpulse + Duration', data = df)\n",
    "mod = regr.fit()\n",
    "print(mod.summary())"
   ]
  },
  {
   "cell_type": "code",
   "execution_count": 14,
   "metadata": {},
   "outputs": [
    {
     "data": {
      "text/plain": [
       "<AxesSubplot:xlabel='Maxpulse', ylabel='Calories'>"
      ]
     },
     "execution_count": 14,
     "metadata": {},
     "output_type": "execute_result"
    },
    {
     "data": {
      "image/png": "[encoded data removed]",
      "text/plain": [
       "<Figure size 432x288 with 1 Axes>"
      ]
     },
     "metadata": {
      "needs_background": "light"
     },
     "output_type": "display_data"
    },
    {
     "data": {
      "image/png": "[encoded data removed]",
      "text/plain": [
       "<Figure size 432x288 with 1 Axes>"
      ]
     },
     "metadata": {
      "needs_background": "light"
     },
     "output_type": "display_data"
    },
    {
     "data": {
      "image/png": "[encoded data removed]",
      "text/plain": [
       "<Figure size 432x288 with 1 Axes>"
      ]
     },
     "metadata": {
      "needs_background": "light"
     },
     "output_type": "display_data"
    }
   ],
   "source": [
    "df.plot.scatter(x='Pulse', y='Calories', color = \"Green\")\n",
    "df.plot.scatter(x='Duration', y='Calories')\n",
    "df.plot.scatter(x='Maxpulse', y='Calories', color = \"Orange\")"
   ]
  },
  {
   "cell_type": "markdown",
   "metadata": {},
   "source": [
    "Considerando i grafici a dispersione e l'indice r^2 molto basso possiamo concludere che il modello di regressione lineare non è efficace per modellizzare i nostri dati.\n",
    "Come mai? Tra i principali motivi:\n",
    "\n",
    "-Le calorie consumate dipendono da altri parametri non considerati, come il carico di allenamento, oppure semplicemente non seguono un modello lineare;\n",
    "\n",
    "-La strumentazione usata non è accurata;\n",
    "\n",
    "\n",
    "-I dati sono troppo pochi e la variabilità è troppo alta;\n",
    "\n",
    "-Le calorie consumate includono anche quelle del metabolismo basale. Sottraendole alle calories probabilmente le differenze sarebbero più significative, e la relazione lineare spiegherebbe più variabilità."
   ]
  }
 ],
 "metadata": {
  "kernelspec": {
   "display_name": "Python 3",
   "language": "python",
   "name": "python3"
  },
  "language_info": {
   "codemirror_mode": {
    "name": "ipython",
    "version": 3
   },
   "file_extension": ".py",
   "mimetype": "text/x-python",
   "name": "python",
   "nbconvert_exporter": "python",
   "pygments_lexer": "ipython3",
   "version": "3.8.5"
  }
 },
 "nbformat": 4,
 "nbformat_minor": 4
}
